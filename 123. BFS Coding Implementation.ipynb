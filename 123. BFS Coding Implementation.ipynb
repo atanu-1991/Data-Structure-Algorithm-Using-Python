{
 "cells": [
  {
   "cell_type": "code",
   "execution_count": 1,
   "id": "6ca8532e",
   "metadata": {},
   "outputs": [
    {
     "name": "stdout",
     "output_type": "stream",
     "text": [
      "A B C D E F G "
     ]
    }
   ],
   "source": [
    "## Implementation of Breadth First Traversal\n",
    "## Data Structure- Queue\n",
    "## Graph is connected or not\n",
    "from collections import deque\n",
    "queue = deque()\n",
    "\n",
    "## functionn definition\n",
    "## queue - FIFO (appendleft and pop) OR (append or popleft)\n",
    "def breadthFirstTraversal(visited, graph, node):\n",
    "    visited.add(node)\n",
    "    queue.appendleft(node)\n",
    "    \n",
    "    while queue:\n",
    "        node = queue.pop()\n",
    "        print(node, end=' ')\n",
    "        \n",
    "        for adjacentNodes in graph[node]:\n",
    "            if adjacentNodes not in visited:\n",
    "                visited.add(adjacentNodes)\n",
    "                queue.appendleft(adjacentNodes)\n",
    "\n",
    "\n",
    "## Drive Code\n",
    "visited = set()\n",
    "\n",
    "## storing the graph in the form of adjacency list\n",
    "graph = {\n",
    "    'A' : ['B', 'C', 'D'],\n",
    "    'B' : ['E'],\n",
    "    'C' : ['E', 'F'],\n",
    "    'D' : ['F'],\n",
    "    'E' : ['G'],\n",
    "    'F' : ['G'],\n",
    "    'G' : []\n",
    "}\n",
    "\n",
    "## function calling\n",
    "breadthFirstTraversal(visited, graph, 'A')"
   ]
  },
  {
   "cell_type": "code",
   "execution_count": null,
   "id": "67473a43",
   "metadata": {},
   "outputs": [],
   "source": []
  }
 ],
 "metadata": {
  "kernelspec": {
   "display_name": "Python 3 (ipykernel)",
   "language": "python",
   "name": "python3"
  },
  "language_info": {
   "codemirror_mode": {
    "name": "ipython",
    "version": 3
   },
   "file_extension": ".py",
   "mimetype": "text/x-python",
   "name": "python",
   "nbconvert_exporter": "python",
   "pygments_lexer": "ipython3",
   "version": "3.9.13"
  }
 },
 "nbformat": 4,
 "nbformat_minor": 5
}
