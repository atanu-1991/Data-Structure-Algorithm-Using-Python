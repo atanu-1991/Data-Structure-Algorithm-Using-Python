{
 "cells": [
  {
   "cell_type": "code",
   "execution_count": null,
   "id": "4d3776dd",
   "metadata": {},
   "outputs": [],
   "source": [
    "## Helper Method\n",
    "def helper(n):\n",
    "    if n <= 1:\n",
    "        return n\n",
    "    return helper(n-1) + helper(n-2)\n",
    "        \n",
    "## function definition\n",
    "def countNumberWays(s):\n",
    "    return helper(s+1)\n",
    "\n",
    "\n",
    "## Driver Code\n",
    "n = 10000000000000\n",
    "result = countNumberWays(n)\n",
    "print(\"Nuber of ways to reach upstairs is\",result)"
   ]
  },
  {
   "cell_type": "code",
   "execution_count": null,
   "id": "65edaf3a",
   "metadata": {},
   "outputs": [],
   "source": []
  }
 ],
 "metadata": {
  "kernelspec": {
   "display_name": "Python 3 (ipykernel)",
   "language": "python",
   "name": "python3"
  },
  "language_info": {
   "codemirror_mode": {
    "name": "ipython",
    "version": 3
   },
   "file_extension": ".py",
   "mimetype": "text/x-python",
   "name": "python",
   "nbconvert_exporter": "python",
   "pygments_lexer": "ipython3",
   "version": "3.9.13"
  }
 },
 "nbformat": 4,
 "nbformat_minor": 5
}
