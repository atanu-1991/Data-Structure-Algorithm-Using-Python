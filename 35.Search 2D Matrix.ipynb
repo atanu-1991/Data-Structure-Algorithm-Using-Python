{
 "cells": [
  {
   "cell_type": "code",
   "execution_count": 5,
   "id": "7a354933",
   "metadata": {},
   "outputs": [
    {
     "name": "stdout",
     "output_type": "stream",
     "text": [
      "True\n"
     ]
    }
   ],
   "source": [
    "## function definition\n",
    "def searchSortedMatrix(matrix, target):\n",
    "    \n",
    "    ## number of rows\n",
    "    m = len(matrix)\n",
    "    \n",
    "    if m == 0:\n",
    "        return False\n",
    "    \n",
    "    ## number of columns\n",
    "    n = len(matrix[0])\n",
    "    \n",
    "    left, right = 0, m*n-1\n",
    "    \n",
    "    while left <= right:\n",
    "        \n",
    "        mid = left + (right - left) // 2\n",
    "        \n",
    "        # extracting element from 2D Array\n",
    "        # row_number = idx // n\n",
    "        # column_number = idx % n\n",
    "        mid_element = matrix[mid//n][mid%n]\n",
    "        \n",
    "        if (target == mid_element):\n",
    "            return True\n",
    "        \n",
    "        elif (target < mid_element):\n",
    "            right = mid - 1\n",
    "            \n",
    "        else:\n",
    "            left = mid + 1\n",
    "            \n",
    "    return False\n",
    "\n",
    "\n",
    "## Driver code\n",
    "matrix = [[1,3,5,7],[10,11,16,20],[23,30,34,60]]\n",
    "target = 3\n",
    "## Function calling\n",
    "result = searchSortedMatrix(matrix, target)\n",
    "print(result)"
   ]
  },
  {
   "cell_type": "code",
   "execution_count": null,
   "id": "36695030",
   "metadata": {},
   "outputs": [],
   "source": []
  }
 ],
 "metadata": {
  "kernelspec": {
   "display_name": "Python 3 (ipykernel)",
   "language": "python",
   "name": "python3"
  },
  "language_info": {
   "codemirror_mode": {
    "name": "ipython",
    "version": 3
   },
   "file_extension": ".py",
   "mimetype": "text/x-python",
   "name": "python",
   "nbconvert_exporter": "python",
   "pygments_lexer": "ipython3",
   "version": "3.9.13"
  }
 },
 "nbformat": 4,
 "nbformat_minor": 5
}
