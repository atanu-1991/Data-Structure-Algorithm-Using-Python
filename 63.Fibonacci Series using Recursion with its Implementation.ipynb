{
 "cells": [
  {
   "cell_type": "code",
   "execution_count": 7,
   "id": "3ef8d284",
   "metadata": {},
   "outputs": [
    {
     "name": "stdout",
     "output_type": "stream",
     "text": [
      "0\n",
      "1\n",
      "1\n",
      "2\n",
      "3\n",
      "5\n",
      "8\n",
      "13\n",
      "21\n",
      "34\n"
     ]
    }
   ],
   "source": [
    "## function definition\n",
    "def fibonacciSeries(n):\n",
    "    ## base case condition\n",
    "    if n<=1:\n",
    "        return n\n",
    "    else:\n",
    "        return fibonacciSeries(n-1) + fibonacciSeries(n-2)\n",
    "\n",
    "\n",
    "## Driver code\n",
    "n = 10\n",
    "for i in range(n):\n",
    "    ## function calling\n",
    "    print(fibonacciSeries(i))"
   ]
  },
  {
   "cell_type": "code",
   "execution_count": null,
   "id": "04ce8ff0",
   "metadata": {},
   "outputs": [],
   "source": []
  }
 ],
 "metadata": {
  "kernelspec": {
   "display_name": "Python 3 (ipykernel)",
   "language": "python",
   "name": "python3"
  },
  "language_info": {
   "codemirror_mode": {
    "name": "ipython",
    "version": 3
   },
   "file_extension": ".py",
   "mimetype": "text/x-python",
   "name": "python",
   "nbconvert_exporter": "python",
   "pygments_lexer": "ipython3",
   "version": "3.9.13"
  }
 },
 "nbformat": 4,
 "nbformat_minor": 5
}
