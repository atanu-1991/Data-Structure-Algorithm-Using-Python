{
 "cells": [
  {
   "cell_type": "code",
   "execution_count": 2,
   "id": "19763702",
   "metadata": {},
   "outputs": [
    {
     "name": "stdout",
     "output_type": "stream",
     "text": [
      "Sorted Array after applying Merge Sort is: [13, 27, 50, 62, 65, 70, 80, 98]\n"
     ]
    }
   ],
   "source": [
    "## Implementation of Merge Sort\n",
    "## Function definition of merge Procedure\n",
    "## n1 + n2 = N\n",
    "## MergeProcedure time complexity = O(N)\n",
    "def mergeProcedure(arr, i, mid, j):\n",
    "    ## n1-> number of elements in left subarray(i, mid)\n",
    "    n1 = mid - i + 1\n",
    "    ## n2-> number of elements in right subarray(mid+1, j)\n",
    "    n2 = j - mid #j - (mid+1) + 1\n",
    "    \n",
    "    ## initialization of left and right sub array\n",
    "    leftSubarray = [0] * n1\n",
    "    rightSubarray = [0] * n2\n",
    "    \n",
    "    ## copy the elements from an array to the left sub arrays\n",
    "    for m in range(n1):\n",
    "        leftSubarray[m] = arr[i + m]\n",
    "        \n",
    "    ## copy the elements from an array to the right sub arrays    \n",
    "    for n in range(n2):\n",
    "        rightSubarray[n] = arr[mid+1 + n]\n",
    "        \n",
    "    p = 0\n",
    "    q = 0\n",
    "    k = i\n",
    "    \n",
    "    ## returning a sorted subarray\n",
    "    while p < n1 and q < n2:\n",
    "        if leftSubarray[p] <= rightSubarray[q]:\n",
    "            arr[k] = leftSubarray[p]\n",
    "            p = p + 1\n",
    "        else:\n",
    "            arr[k] = rightSubarray[q]\n",
    "            q = q + 1\n",
    "            \n",
    "        k = k + 1\n",
    "        \n",
    "    ## copy the entire elements from left subarray\n",
    "    while p < n1:\n",
    "        arr[k] = leftSubarray[p]\n",
    "        p = p + 1\n",
    "        k = k + 1\n",
    "        \n",
    "    ## copy the entire elements from right subarray\n",
    "    while q < n2:\n",
    "        arr[k] = rightSubarray[q]\n",
    "        q = q + 1\n",
    "        k = k + 1\n",
    "\n",
    "## function definition of Merge Sort\n",
    "## Approach -> Divide and Conquer\n",
    "## Recurrence Relation -> 2T(N/2) + N\n",
    "## Time Complexity-> O(NlogN)\n",
    "def mergeSort(arr, i, j):\n",
    "    if i < j:\n",
    "        ## Divide\n",
    "        mid = i + (j-i)//2\n",
    "        ## Conquer\n",
    "        ## recursive call -> left subtree\n",
    "        mergeSort(arr, i, mid)\n",
    "        ## recursive call -> right subtree\n",
    "        mergeSort(arr, mid+1, j)\n",
    "        ## Combine -> mergeProcedure()[function calling]\n",
    "        mergeProcedure(arr, i, mid, j)\n",
    "    return arr\n",
    "\n",
    "\n",
    "## Driver Code\n",
    "arr = [50, 70, 65, 13, 80, 62, 98, 27]\n",
    "i = 0\n",
    "j = len(arr)-1\n",
    "## function calling\n",
    "result = mergeSort(arr, i, j)\n",
    "print(\"Sorted Array after applying Merge Sort is:\",result)"
   ]
  },
  {
   "cell_type": "code",
   "execution_count": null,
   "id": "f73e5e00",
   "metadata": {},
   "outputs": [],
   "source": []
  }
 ],
 "metadata": {
  "kernelspec": {
   "display_name": "Python 3 (ipykernel)",
   "language": "python",
   "name": "python3"
  },
  "language_info": {
   "codemirror_mode": {
    "name": "ipython",
    "version": 3
   },
   "file_extension": ".py",
   "mimetype": "text/x-python",
   "name": "python",
   "nbconvert_exporter": "python",
   "pygments_lexer": "ipython3",
   "version": "3.9.13"
  }
 },
 "nbformat": 4,
 "nbformat_minor": 5
}
