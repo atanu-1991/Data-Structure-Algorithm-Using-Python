{
 "cells": [
  {
   "cell_type": "code",
   "execution_count": 5,
   "id": "80f69db3",
   "metadata": {},
   "outputs": [
    {
     "name": "stdout",
     "output_type": "stream",
     "text": [
      "Inorder Traversal\n",
      "50  80  90  100  110  \n",
      "Minimum value in BST is 50\n"
     ]
    }
   ],
   "source": [
    "## class of nodes in a BST\n",
    "## Time Complexity for the insertion:\n",
    "## Time Complexity for the inOrder Traversal: O(n)\n",
    "## Time Complexity for the minimum value finding in BST:\n",
    "class Node:\n",
    "    def __init__(self, data):\n",
    "        self.left = None\n",
    "        self.right = None\n",
    "        self.data = data\n",
    "        \n",
    "## insertion in BST\n",
    "def insertBST(root, key):\n",
    "    if root is None:\n",
    "        return Node(key)\n",
    "    else:\n",
    "        if root.data == key:\n",
    "            return root\n",
    "        elif root.data < key:\n",
    "            root.right = insertBST(root.right, key)\n",
    "        else:\n",
    "            root.left = insertBST(root.left, key)\n",
    "            \n",
    "    return root\n",
    "\n",
    "## minimum value in BST\n",
    "def minValBST(node):\n",
    "    temp = node\n",
    "    while temp.left is not None:\n",
    "        temp = temp.left\n",
    "    \n",
    "    return temp.data\n",
    "\n",
    "## inorder traversal of BST\n",
    "def inOrder(root):\n",
    "    if root:\n",
    "        ## recursive call for left subtree\n",
    "        inOrder(root.left)\n",
    "        print(str(root.data)+\" \",end=\" \")\n",
    "        ## recursive call for right subtree\n",
    "        inOrder(root.right)        \n",
    "\n",
    "\n",
    "## Driver Method\n",
    "root = Node(100)\n",
    "root = insertBST(root, 80)\n",
    "root = insertBST(root, 110)\n",
    "root = insertBST(root, 50)\n",
    "root = insertBST(root, 90)\n",
    "\n",
    "print(\"Inorder Traversal\")\n",
    "inOrder(root)\n",
    "\n",
    "result = minValBST(root)\n",
    "print()\n",
    "print(\"Minimum value in BST is\",result)"
   ]
  },
  {
   "cell_type": "code",
   "execution_count": null,
   "id": "29664da2",
   "metadata": {},
   "outputs": [],
   "source": []
  }
 ],
 "metadata": {
  "kernelspec": {
   "display_name": "Python 3 (ipykernel)",
   "language": "python",
   "name": "python3"
  },
  "language_info": {
   "codemirror_mode": {
    "name": "ipython",
    "version": 3
   },
   "file_extension": ".py",
   "mimetype": "text/x-python",
   "name": "python",
   "nbconvert_exporter": "python",
   "pygments_lexer": "ipython3",
   "version": "3.9.13"
  }
 },
 "nbformat": 4,
 "nbformat_minor": 5
}
