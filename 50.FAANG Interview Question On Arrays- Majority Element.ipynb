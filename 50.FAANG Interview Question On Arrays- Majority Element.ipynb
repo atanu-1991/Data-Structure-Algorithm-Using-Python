{
 "cells": [
  {
   "cell_type": "code",
   "execution_count": 9,
   "id": "69dad687",
   "metadata": {},
   "outputs": [
    {
     "name": "stdout",
     "output_type": "stream",
     "text": [
      "Counter({2: 4, 1: 3})\n",
      "Majority Element in an array is 2\n"
     ]
    }
   ],
   "source": [
    "## Approach 2- Dictionary Data Structure\n",
    "## Time Complexity: O(n)\n",
    "## Space Complexity: O(n)\n",
    "from collections import Counter\n",
    "## Method definition\n",
    "def majorityElement(nums):\n",
    "    counts = Counter(nums)\n",
    "    print(counts)\n",
    "    return max(counts.keys(), key= counts.get)\n",
    "\n",
    "## Driver Code\n",
    "nums = [2, 2, 1, 1, 1, 2, 2]\n",
    "result = majorityElement(nums)\n",
    "print(\"Majority Element in an array is\",result)"
   ]
  },
  {
   "cell_type": "code",
   "execution_count": 7,
   "id": "fa864f4e",
   "metadata": {},
   "outputs": [
    {
     "name": "stdout",
     "output_type": "stream",
     "text": [
      "No Majority Element exists in an array\n"
     ]
    }
   ],
   "source": [
    "## Approach 3- Boyer-Moore Voting Algorithm\n",
    "## Time Complexity: O(n)\n",
    "## Space Complexity: O(1)\n",
    "\n",
    "## Method definition of findCandidate\n",
    "def findCandidate(nums):\n",
    "    count = 0\n",
    "    candidate = None\n",
    "    for num in nums:\n",
    "        if count == 0:\n",
    "            candidate = num\n",
    "            \n",
    "        if num == candidate:\n",
    "            count = count + 1\n",
    "        else:\n",
    "            count = count - 1\n",
    "            \n",
    "    return candidate\n",
    "\n",
    "## Method definition of isMajority\n",
    "def isMajority(nums, candidate):\n",
    "    count=0\n",
    "    n = len(nums)\n",
    "    for i in range(n):\n",
    "        if nums[i] == candidate:\n",
    "            count = count + 1\n",
    "            \n",
    "    if count > n/2:\n",
    "        return 1\n",
    "    else:\n",
    "        return 0\n",
    "            \n",
    "            \n",
    "## Method definition of printmajorityElement\n",
    "def printmajorityElement(nums):\n",
    "    cand = findCandidate(nums)\n",
    "    if isMajority(nums, cand):\n",
    "        print(\"Majority Element in an array is\",cand)\n",
    "    else:\n",
    "        print(\"No Majority Element exists in an array\")\n",
    "\n",
    "## Driver Code\n",
    "# nums = [2, 2, 1, 1, 1, 2, 2]\n",
    "nums = [2,3,7,3,4]\n",
    "printmajorityElement(nums)"
   ]
  },
  {
   "cell_type": "code",
   "execution_count": null,
   "id": "db0e3fdd",
   "metadata": {},
   "outputs": [],
   "source": []
  }
 ],
 "metadata": {
  "kernelspec": {
   "display_name": "Python 3 (ipykernel)",
   "language": "python",
   "name": "python3"
  },
  "language_info": {
   "codemirror_mode": {
    "name": "ipython",
    "version": 3
   },
   "file_extension": ".py",
   "mimetype": "text/x-python",
   "name": "python",
   "nbconvert_exporter": "python",
   "pygments_lexer": "ipython3",
   "version": "3.9.13"
  }
 },
 "nbformat": 4,
 "nbformat_minor": 5
}
