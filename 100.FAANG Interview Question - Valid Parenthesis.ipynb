{
 "cells": [
  {
   "cell_type": "code",
   "execution_count": 8,
   "id": "143bf6ec",
   "metadata": {},
   "outputs": [
    {
     "name": "stdout",
     "output_type": "stream",
     "text": [
      "String contains a valid parenthesis\n"
     ]
    }
   ],
   "source": [
    "## Method Definition\n",
    "## Time Complexity: O(n)\n",
    "def isValidParen(string):\n",
    "    open_param = set([\"(\", \"[\", \"{\"])\n",
    "    dictionary = {\"(\":\")\", \"[\":\"]\", \"{\":\"}\"}\n",
    "    stack = []\n",
    "    \n",
    "    for char in string:\n",
    "        if char in open_param:\n",
    "            ## add the element in stack\n",
    "            stack.append(char)\n",
    "        elif stack and char == dictionary[stack[-1]]:\n",
    "            ## pop/delete the element from the stack\n",
    "            stack.pop()\n",
    "        else:\n",
    "            return False\n",
    "        \n",
    "    return stack == []\n",
    "\n",
    "\n",
    "\n",
    "## Driver Code\n",
    "string1 = \"{[]}\"\n",
    "string2 = \"{[[]}\"\n",
    "\n",
    "if isValidParen(string1):\n",
    "    print(\"String contains a valid parenthesis\")\n",
    "else:\n",
    "    print(\"String contains an Invalid parenthesis\")"
   ]
  },
  {
   "cell_type": "code",
   "execution_count": null,
   "id": "11637276",
   "metadata": {},
   "outputs": [],
   "source": []
  }
 ],
 "metadata": {
  "kernelspec": {
   "display_name": "Python 3 (ipykernel)",
   "language": "python",
   "name": "python3"
  },
  "language_info": {
   "codemirror_mode": {
    "name": "ipython",
    "version": 3
   },
   "file_extension": ".py",
   "mimetype": "text/x-python",
   "name": "python",
   "nbconvert_exporter": "python",
   "pygments_lexer": "ipython3",
   "version": "3.9.13"
  }
 },
 "nbformat": 4,
 "nbformat_minor": 5
}
