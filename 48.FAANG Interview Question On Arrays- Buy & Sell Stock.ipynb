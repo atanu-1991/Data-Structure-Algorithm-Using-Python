{
 "cells": [
  {
   "cell_type": "code",
   "execution_count": 1,
   "id": "e212019f",
   "metadata": {},
   "outputs": [
    {
     "name": "stdout",
     "output_type": "stream",
     "text": [
      "The maximum profit of buy and sell the stock is: 14\n"
     ]
    }
   ],
   "source": [
    "## Function Definition\n",
    "## Time complexity: O(n)\n",
    "## Space complexity: O(1)\n",
    "def findMaxprofit(prices):\n",
    "    min_price = float('inf')\n",
    "    max_profit = 0\n",
    "    \n",
    "    for i in range(len(prices)):\n",
    "        if prices[i] < min_price:\n",
    "            min_price = prices[i]\n",
    "        elif prices[i] - min_price > max_profit:\n",
    "            max_profit = prices[i] - min_price\n",
    "\n",
    "    return max_profit\n",
    "\n",
    "\n",
    "## Driver Code\n",
    "prices = [7,1,5,3,6,4,15]\n",
    "## function calling\n",
    "maxProfit = findMaxprofit(prices)\n",
    "print(\"The maximum profit of buy and sell the stock is:\",maxProfit)"
   ]
  },
  {
   "cell_type": "code",
   "execution_count": null,
   "id": "3d59afb6",
   "metadata": {},
   "outputs": [],
   "source": []
  }
 ],
 "metadata": {
  "kernelspec": {
   "display_name": "Python 3 (ipykernel)",
   "language": "python",
   "name": "python3"
  },
  "language_info": {
   "codemirror_mode": {
    "name": "ipython",
    "version": 3
   },
   "file_extension": ".py",
   "mimetype": "text/x-python",
   "name": "python",
   "nbconvert_exporter": "python",
   "pygments_lexer": "ipython3",
   "version": "3.9.13"
  }
 },
 "nbformat": 4,
 "nbformat_minor": 5
}
