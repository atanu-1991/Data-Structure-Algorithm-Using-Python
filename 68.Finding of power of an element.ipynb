{
 "cells": [
  {
   "cell_type": "code",
   "execution_count": 24,
   "id": "463446ba",
   "metadata": {},
   "outputs": [
    {
     "name": "stdout",
     "output_type": "stream",
     "text": [
      "The power of an element is: 0.03125\n"
     ]
    }
   ],
   "source": [
    "## Finding of power of an element when n >= 1\n",
    "## Assignment Task: n <= 0\n",
    "## Time Complexity: O(logn)\n",
    "## function definition\n",
    "def findPowerOfElement(a,n):\n",
    "    ## small problem\n",
    "    if n == 1:\n",
    "        return a\n",
    "    elif n == -1:\n",
    "        return 1/a\n",
    "    ## if n==0:\n",
    "    elif n == 0:\n",
    "        return 1\n",
    "    ## if n<0:\n",
    "    elif n < 0:\n",
    "        mid = n//2\n",
    "        b = findPowerOfElement(a, mid)\n",
    "        result = b * b\n",
    "        if n % 2 == 0:\n",
    "            return result\n",
    "        return result * (a)\n",
    "    else:\n",
    "        ## big problem -> Divide And Conquer Approach\n",
    "        mid = n // 2\n",
    "        ## recursive call\n",
    "        b = findPowerOfElement(a, mid)\n",
    "        result = b * b\n",
    "        ## even\n",
    "        if n % 2 == 0:\n",
    "            return result\n",
    "        return result * a\n",
    "            \n",
    "\n",
    "\n",
    "## Driver Code\n",
    "n = -5\n",
    "a = 2\n",
    "# n = 12\n",
    "result = findPowerOfElement(a,n)\n",
    "print(\"The power of an element is:\",result)"
   ]
  },
  {
   "cell_type": "code",
   "execution_count": 16,
   "id": "4e0c460f",
   "metadata": {},
   "outputs": [
    {
     "data": {
      "text/plain": [
       "2"
      ]
     },
     "execution_count": 16,
     "metadata": {},
     "output_type": "execute_result"
    }
   ],
   "source": [
    "5//2"
   ]
  },
  {
   "cell_type": "code",
   "execution_count": 17,
   "id": "49f8f89e",
   "metadata": {},
   "outputs": [
    {
     "data": {
      "text/plain": [
       "0.0078125"
      ]
     },
     "execution_count": 17,
     "metadata": {},
     "output_type": "execute_result"
    }
   ],
   "source": [
    "1/128"
   ]
  },
  {
   "cell_type": "code",
   "execution_count": null,
   "id": "5ec03406",
   "metadata": {},
   "outputs": [],
   "source": []
  }
 ],
 "metadata": {
  "kernelspec": {
   "display_name": "Python 3 (ipykernel)",
   "language": "python",
   "name": "python3"
  },
  "language_info": {
   "codemirror_mode": {
    "name": "ipython",
    "version": 3
   },
   "file_extension": ".py",
   "mimetype": "text/x-python",
   "name": "python",
   "nbconvert_exporter": "python",
   "pygments_lexer": "ipython3",
   "version": "3.9.13"
  }
 },
 "nbformat": 4,
 "nbformat_minor": 5
}
