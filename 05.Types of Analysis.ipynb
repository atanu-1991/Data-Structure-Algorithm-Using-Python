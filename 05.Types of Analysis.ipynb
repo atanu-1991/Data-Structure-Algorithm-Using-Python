{
 "cells": [
  {
   "cell_type": "code",
   "execution_count": 1,
   "id": "339f535a",
   "metadata": {},
   "outputs": [
    {
     "name": "stdout",
     "output_type": "stream",
     "text": [
      "Sum of top 5 natural number is 15\n"
     ]
    }
   ],
   "source": [
    "def sum_of_numbers(lst):\n",
    "    total = 0\n",
    "    for i in range(len(lst)):\n",
    "        total = total + lst[i]\n",
    "        \n",
    "    return total\n",
    "\n",
    "lst = [1, 2, 3, 4, 5]\n",
    "result = sum_of_numbers(lst)\n",
    "print(\"Sum of top 5 natural number is\",result)"
   ]
  },
  {
   "cell_type": "code",
   "execution_count": 3,
   "id": "98b55e94",
   "metadata": {},
   "outputs": [
    {
     "name": "stdout",
     "output_type": "stream",
     "text": [
      "Sum of top 5 natural number is 15\n"
     ]
    }
   ],
   "source": [
    "def sum_of_numbers(lst):\n",
    "    n = len(lst)\n",
    "    total = (n * (n+1))//2\n",
    "    return total\n",
    "\n",
    "lst = [1, 2, 3, 4, 5]\n",
    "result = sum_of_numbers(lst)\n",
    "print(\"Sum of top 5 natural number is\",result)"
   ]
  },
  {
   "cell_type": "code",
   "execution_count": null,
   "id": "53fad79f",
   "metadata": {},
   "outputs": [],
   "source": []
  }
 ],
 "metadata": {
  "kernelspec": {
   "display_name": "Python 3 (ipykernel)",
   "language": "python",
   "name": "python3"
  },
  "language_info": {
   "codemirror_mode": {
    "name": "ipython",
    "version": 3
   },
   "file_extension": ".py",
   "mimetype": "text/x-python",
   "name": "python",
   "nbconvert_exporter": "python",
   "pygments_lexer": "ipython3",
   "version": "3.9.13"
  }
 },
 "nbformat": 4,
 "nbformat_minor": 5
}
