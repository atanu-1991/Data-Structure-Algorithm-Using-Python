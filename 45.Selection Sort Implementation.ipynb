{
 "cells": [
  {
   "cell_type": "code",
   "execution_count": 1,
   "id": "042c1389",
   "metadata": {},
   "outputs": [
    {
     "name": "stdout",
     "output_type": "stream",
     "text": [
      "Array after Selection Sort: [19, 27, 29, 38, 45, 50, 79]\n"
     ]
    }
   ],
   "source": [
    "## Time Complexity: O(n^2)\n",
    "## Function Definition\n",
    "def selectionSort(arr):\n",
    "    n = len(arr)\n",
    "    for i in range(n):\n",
    "        ## to store the index of the minimum element\n",
    "        min_idx = i\n",
    "        for j in range(i+1, n):\n",
    "            if arr[j] < arr[min_idx]:\n",
    "                min_idx = j\n",
    "                \n",
    "        ## swap of the element at i and min_idx\n",
    "        arr[i], arr[min_idx] = arr[min_idx], arr[i]\n",
    "        \n",
    "    return arr\n",
    "\n",
    "\n",
    "## Driver Code\n",
    "arr = [50, 38, 45, 79, 19, 27, 29]\n",
    "result = selectionSort(arr)\n",
    "print(\"Array after Selection Sort:\",result)"
   ]
  },
  {
   "cell_type": "code",
   "execution_count": null,
   "id": "6e734e11",
   "metadata": {},
   "outputs": [],
   "source": []
  }
 ],
 "metadata": {
  "kernelspec": {
   "display_name": "Python 3 (ipykernel)",
   "language": "python",
   "name": "python3"
  },
  "language_info": {
   "codemirror_mode": {
    "name": "ipython",
    "version": 3
   },
   "file_extension": ".py",
   "mimetype": "text/x-python",
   "name": "python",
   "nbconvert_exporter": "python",
   "pygments_lexer": "ipython3",
   "version": "3.9.13"
  }
 },
 "nbformat": 4,
 "nbformat_minor": 5
}
