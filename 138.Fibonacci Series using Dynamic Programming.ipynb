{
 "cells": [
  {
   "cell_type": "markdown",
   "id": "90ffc45e",
   "metadata": {},
   "source": [
    "#### Approach1: Simple Recursive Approach to calculate fib(n)"
   ]
  },
  {
   "cell_type": "code",
   "execution_count": 1,
   "id": "746375eb",
   "metadata": {},
   "outputs": [],
   "source": [
    "def fib(n):\n",
    "    ## base case condition\n",
    "    if n==1 or n==2:\n",
    "        result = 1\n",
    "    ## recurrence relation\n",
    "    else:\n",
    "        result = fib(n-1) + fib(n-2)\n",
    "        \n",
    "    return result"
   ]
  },
  {
   "cell_type": "code",
   "execution_count": 2,
   "id": "079f8b06",
   "metadata": {},
   "outputs": [
    {
     "data": {
      "text/plain": [
       "5"
      ]
     },
     "execution_count": 2,
     "metadata": {},
     "output_type": "execute_result"
    }
   ],
   "source": [
    "fib(5)"
   ]
  },
  {
   "cell_type": "code",
   "execution_count": 3,
   "id": "b8145d45",
   "metadata": {},
   "outputs": [
    {
     "data": {
      "text/plain": [
       "102334155"
      ]
     },
     "execution_count": 3,
     "metadata": {},
     "output_type": "execute_result"
    }
   ],
   "source": [
    "fib(40)"
   ]
  },
  {
   "cell_type": "markdown",
   "id": "d808dc1c",
   "metadata": {},
   "source": [
    "#### Inference: As we increase the value of n, the time required to execute the code is also increasing\n",
    "\n",
    "#### Why:\n",
    "\n",
    "Due to the Overlapping Subproblem\n",
    "\n",
    "#### Approach2: Memmoization(Top Down Approach) using Dynamic Programming"
   ]
  },
  {
   "cell_type": "code",
   "execution_count": 4,
   "id": "f98870ef",
   "metadata": {},
   "outputs": [],
   "source": [
    "def fib_topdown(n, memo):\n",
    "    ## storing of the results of function calls\n",
    "    if memo[n] is not None:\n",
    "        return memo[n]\n",
    "    ## computation of the function call\n",
    "    ## base case condition\n",
    "    if n==1 or n==2:\n",
    "        result = 1\n",
    "    else:\n",
    "        ## recursive function call\n",
    "        result = fib_topdown(n-1, memo) + fib_topdown(n-2, memo)\n",
    "        \n",
    "    memo[n] = result\n",
    "    return result\n",
    "\n",
    "def fib_memo(n):\n",
    "    ## list to store the results of the function calls\n",
    "    ## avoid the overlapping subproblems\n",
    "    memo = [None] * (n+1)\n",
    "    return fib_topdown(n, memo)"
   ]
  },
  {
   "cell_type": "code",
   "execution_count": 5,
   "id": "51f9d0d8",
   "metadata": {},
   "outputs": [
    {
     "data": {
      "text/plain": [
       "5"
      ]
     },
     "execution_count": 5,
     "metadata": {},
     "output_type": "execute_result"
    }
   ],
   "source": [
    "fib_memo(5)"
   ]
  },
  {
   "cell_type": "code",
   "execution_count": 6,
   "id": "aab460e6",
   "metadata": {},
   "outputs": [
    {
     "data": {
      "text/plain": [
       "102334155"
      ]
     },
     "execution_count": 6,
     "metadata": {},
     "output_type": "execute_result"
    }
   ],
   "source": [
    "fib_memo(40)"
   ]
  },
  {
   "cell_type": "code",
   "execution_count": null,
   "id": "eb1b1d2a",
   "metadata": {},
   "outputs": [],
   "source": [
    "fib_memo(5000)"
   ]
  },
  {
   "cell_type": "code",
   "execution_count": null,
   "id": "01717b96",
   "metadata": {},
   "outputs": [],
   "source": []
  }
 ],
 "metadata": {
  "kernelspec": {
   "display_name": "Python 3 (ipykernel)",
   "language": "python",
   "name": "python3"
  },
  "language_info": {
   "codemirror_mode": {
    "name": "ipython",
    "version": 3
   },
   "file_extension": ".py",
   "mimetype": "text/x-python",
   "name": "python",
   "nbconvert_exporter": "python",
   "pygments_lexer": "ipython3",
   "version": "3.9.13"
  }
 },
 "nbformat": 4,
 "nbformat_minor": 5
}
