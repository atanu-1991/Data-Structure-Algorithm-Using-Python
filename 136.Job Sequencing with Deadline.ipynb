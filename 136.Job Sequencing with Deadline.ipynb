{
 "cells": [
  {
   "cell_type": "code",
   "execution_count": 1,
   "id": "a440ea1b",
   "metadata": {},
   "outputs": [
    {
     "name": "stdout",
     "output_type": "stream",
     "text": [
      "['J2', 'J5', 'J4', 'J7', 'J8', -1, 'J3']\n"
     ]
    }
   ],
   "source": [
    "## Can we solve the same problem using the concept of Heap data Structure\n",
    "## Minheap and Maxheap\n",
    "## Time Complexity and Space Complexity\n",
    "## Greedy Approach\n",
    "## jobScheduling method definition\n",
    "def jobScheduling(arr, maxDeadline):\n",
    "    n = len(arr)\n",
    "    ## sort the array on the basis of profit in descending order\n",
    "    arr.sort(key = lambda x:x[1], reverse=True)\n",
    "    \n",
    "    result = [False] * maxDeadline\n",
    "    job = [-1] * maxDeadline\n",
    "    \n",
    "    ## traverse the result list and if the slot is there, allocation\n",
    "    ## of the jobs in reverse manner\n",
    "    for i in range(n):\n",
    "        for j in range(min(maxDeadline-1, arr[i][2]-1),-1,-1):\n",
    "            if result[j] is False:\n",
    "                result[j] = True\n",
    "                job[j] = arr[i][0]\n",
    "                break\n",
    "                \n",
    "    print(job)\n",
    "\n",
    "\n",
    "## Driver Code\n",
    "## JobNumber, Profit, Deadline\n",
    "arr = [['J1', 55, 5],\n",
    "      ['J2', 65, 2],\n",
    "      ['J3', 75, 7],\n",
    "      ['J4', 60, 3],\n",
    "      ['J5', 70, 2],\n",
    "      ['J6', 50, 1],\n",
    "      ['J7', 85, 4],\n",
    "      ['J8', 68, 5],\n",
    "      ['J9', 45, 3]]\n",
    "\n",
    "maxDeadline = 7\n",
    "jobScheduling(arr, maxDeadline)"
   ]
  },
  {
   "cell_type": "code",
   "execution_count": null,
   "id": "45b80b18",
   "metadata": {},
   "outputs": [],
   "source": []
  }
 ],
 "metadata": {
  "kernelspec": {
   "display_name": "Python 3 (ipykernel)",
   "language": "python",
   "name": "python3"
  },
  "language_info": {
   "codemirror_mode": {
    "name": "ipython",
    "version": 3
   },
   "file_extension": ".py",
   "mimetype": "text/x-python",
   "name": "python",
   "nbconvert_exporter": "python",
   "pygments_lexer": "ipython3",
   "version": "3.9.13"
  }
 },
 "nbformat": 4,
 "nbformat_minor": 5
}
