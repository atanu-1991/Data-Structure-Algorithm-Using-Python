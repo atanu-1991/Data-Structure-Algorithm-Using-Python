{
 "cells": [
  {
   "cell_type": "code",
   "execution_count": 1,
   "id": "6bcf215a",
   "metadata": {},
   "outputs": [
    {
     "name": "stdout",
     "output_type": "stream",
     "text": [
      "{'A': 0, 'B': 2, 'C': 4, 'D': 2, 'E': 3, 'F': 5}\n"
     ]
    }
   ],
   "source": [
    "import heapq\n",
    "\n",
    "## Dijkstra's Algorithm\n",
    "def calculate_distances(graph, starting_vertex):\n",
    "    distances = {vertex: float('infinity') for vertex in graph}\n",
    "    distances[starting_vertex] = 0\n",
    "    \n",
    "    pq = [(0, starting_vertex)]\n",
    "    while len(pq) > 0:\n",
    "        current_distance, current_vertex = heapq.heappop(pq)\n",
    "        \n",
    "        if current_distance > distances[current_vertex]:\n",
    "            continue\n",
    "            \n",
    "        for neighbour, weight in graph[current_vertex].items():\n",
    "            distance = current_distance + weight\n",
    "            \n",
    "            # Only consider this new path if it's better than any path we've\n",
    "            # already found\n",
    "            ## Relaxation of Edges\n",
    "            if distance < distances[neighbour]:\n",
    "                distances[neighbour] = distance\n",
    "                heapq.heappush(pq, (distance,neighbour))\n",
    "                \n",
    "    return distances\n",
    "    \n",
    "\n",
    "\n",
    "## Driver code\n",
    "## storage of the graph is done via adjacency list\n",
    "distances = {\n",
    "    'A' : {'B': 2, 'C': 5, 'D': 2, 'E': 7, 'F': 50},\n",
    "    'B' : {'C': 2, 'D': 1, 'E': 2, 'F':60},\n",
    "    'C' : {'B': 3, 'E': 2, 'F': 90},\n",
    "    'D' : {'E': 1, 'F': 3},\n",
    "    'E' : {'D': 4, 'F': 4},\n",
    "    'F' : {}}\n",
    "\n",
    "## function calling\n",
    "print(calculate_distances(distances, 'A'))"
   ]
  },
  {
   "cell_type": "code",
   "execution_count": null,
   "id": "183b1216",
   "metadata": {},
   "outputs": [],
   "source": []
  }
 ],
 "metadata": {
  "kernelspec": {
   "display_name": "Python 3 (ipykernel)",
   "language": "python",
   "name": "python3"
  },
  "language_info": {
   "codemirror_mode": {
    "name": "ipython",
    "version": 3
   },
   "file_extension": ".py",
   "mimetype": "text/x-python",
   "name": "python",
   "nbconvert_exporter": "python",
   "pygments_lexer": "ipython3",
   "version": "3.9.13"
  }
 },
 "nbformat": 4,
 "nbformat_minor": 5
}
