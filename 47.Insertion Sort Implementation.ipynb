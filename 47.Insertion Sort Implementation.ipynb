{
 "cells": [
  {
   "cell_type": "code",
   "execution_count": 2,
   "id": "719038ba",
   "metadata": {},
   "outputs": [
    {
     "name": "stdout",
     "output_type": "stream",
     "text": [
      "Array after Insertion Sort [1, 3, 4, 5, 9]\n"
     ]
    }
   ],
   "source": [
    "## Function definition\n",
    "def insertionSort(arr):\n",
    "    for i in range(1, len(arr)):\n",
    "        key = arr[i]\n",
    "        j = i - 1\n",
    "        \n",
    "        while (j >= 0 and key < arr[j]):\n",
    "            arr[j+1] = arr[j]\n",
    "            j = j - 1\n",
    "            \n",
    "        arr[j+1] = key\n",
    "        \n",
    "    return arr\n",
    "\n",
    "\n",
    "\n",
    "## Driver Code\n",
    "arr = [9, 5, 1, 4, 3]\n",
    "result = insertionSort(arr)\n",
    "print(\"Array after Insertion Sort\",result)"
   ]
  },
  {
   "cell_type": "code",
   "execution_count": null,
   "id": "70e2602b",
   "metadata": {},
   "outputs": [],
   "source": []
  }
 ],
 "metadata": {
  "kernelspec": {
   "display_name": "Python 3 (ipykernel)",
   "language": "python",
   "name": "python3"
  },
  "language_info": {
   "codemirror_mode": {
    "name": "ipython",
    "version": 3
   },
   "file_extension": ".py",
   "mimetype": "text/x-python",
   "name": "python",
   "nbconvert_exporter": "python",
   "pygments_lexer": "ipython3",
   "version": "3.9.13"
  }
 },
 "nbformat": 4,
 "nbformat_minor": 5
}
