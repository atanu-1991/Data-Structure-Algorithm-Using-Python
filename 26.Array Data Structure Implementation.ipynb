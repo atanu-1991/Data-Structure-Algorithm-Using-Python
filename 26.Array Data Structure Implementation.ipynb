{
 "cells": [
  {
   "cell_type": "code",
   "execution_count": 1,
   "id": "1f9f80ac",
   "metadata": {},
   "outputs": [],
   "source": [
    "arr = [2, 1, 8, 9, 12, 15, 11, 19]"
   ]
  },
  {
   "cell_type": "code",
   "execution_count": 2,
   "id": "c436006e",
   "metadata": {},
   "outputs": [
    {
     "data": {
      "text/plain": [
       "12"
      ]
     },
     "execution_count": 2,
     "metadata": {},
     "output_type": "execute_result"
    }
   ],
   "source": [
    "## Random Access\n",
    "arr[4]"
   ]
  },
  {
   "cell_type": "code",
   "execution_count": 5,
   "id": "bc38c37b",
   "metadata": {},
   "outputs": [
    {
     "data": {
      "text/plain": [
       "8"
      ]
     },
     "execution_count": 5,
     "metadata": {},
     "output_type": "execute_result"
    }
   ],
   "source": [
    "len(arr)"
   ]
  },
  {
   "cell_type": "code",
   "execution_count": 4,
   "id": "884e7685",
   "metadata": {},
   "outputs": [
    {
     "data": {
      "text/plain": [
       "range(0, 8)"
      ]
     },
     "execution_count": 4,
     "metadata": {},
     "output_type": "execute_result"
    }
   ],
   "source": [
    "range(len(arr))"
   ]
  },
  {
   "cell_type": "code",
   "execution_count": 8,
   "id": "3502fa9f",
   "metadata": {},
   "outputs": [
    {
     "name": "stdout",
     "output_type": "stream",
     "text": [
      "Searching Element is present at index 5\n"
     ]
    }
   ],
   "source": [
    "## Search for an element \"15\" and if it's present in an array, return the index of that element\n",
    "## Suppose the searching element is not present in an array, return -1\n",
    "## Time Complexity : O(n)\n",
    "## Space Complexity : O(1)\n",
    "## Function definition\n",
    "def linearSearch(arr, x):\n",
    "    for i in range(len(arr)):\n",
    "        if arr[i]==x:\n",
    "            return i\n",
    "        \n",
    "    return -1\n",
    "\n",
    "\n",
    "## Driver code\n",
    "arr = [2, 1, 8, 9, 12, 15, 11, 19]\n",
    "x = 15\n",
    "## Function calling\n",
    "result = linearSearch(arr, x)\n",
    "print(\"Searching Element is present at index\", result)"
   ]
  },
  {
   "cell_type": "code",
   "execution_count": 11,
   "id": "70b88ab8",
   "metadata": {},
   "outputs": [],
   "source": [
    "## Insert an element 5 at index 2\n",
    "## list.insert(index, element)\n",
    "## Time Complexity: O(n)\n",
    "arr.insert(2, 5)"
   ]
  },
  {
   "cell_type": "code",
   "execution_count": 12,
   "id": "89ad4580",
   "metadata": {},
   "outputs": [
    {
     "data": {
      "text/plain": [
       "[2, 1, 5, 8, 9, 12, 2, 15, 11, 19]"
      ]
     },
     "execution_count": 12,
     "metadata": {},
     "output_type": "execute_result"
    }
   ],
   "source": [
    "arr"
   ]
  },
  {
   "cell_type": "code",
   "execution_count": 13,
   "id": "1a88c624",
   "metadata": {},
   "outputs": [],
   "source": [
    "## Remove an element 8 from an array\n",
    "## list.remove(element)\n",
    "## Time Complexity: O(n)\n",
    "arr.remove(8)"
   ]
  },
  {
   "cell_type": "code",
   "execution_count": 14,
   "id": "6a713545",
   "metadata": {},
   "outputs": [
    {
     "data": {
      "text/plain": [
       "[2, 1, 5, 9, 12, 2, 15, 11, 19]"
      ]
     },
     "execution_count": 14,
     "metadata": {},
     "output_type": "execute_result"
    }
   ],
   "source": [
    "arr"
   ]
  },
  {
   "cell_type": "code",
   "execution_count": 15,
   "id": "7b250159",
   "metadata": {},
   "outputs": [
    {
     "data": {
      "text/plain": [
       "2"
      ]
     },
     "execution_count": 15,
     "metadata": {},
     "output_type": "execute_result"
    }
   ],
   "source": [
    "## Count the frequency of an element present inside the array\n",
    "arr.count(2)"
   ]
  },
  {
   "cell_type": "code",
   "execution_count": 16,
   "id": "5f445b3a",
   "metadata": {},
   "outputs": [
    {
     "data": {
      "text/plain": [
       "1"
      ]
     },
     "execution_count": 16,
     "metadata": {},
     "output_type": "execute_result"
    }
   ],
   "source": [
    "arr.count(15)"
   ]
  },
  {
   "cell_type": "code",
   "execution_count": 17,
   "id": "68fe82f6",
   "metadata": {},
   "outputs": [
    {
     "data": {
      "text/plain": [
       "[2, 1, 5, 9, 12, 2, 15, 11, 19]"
      ]
     },
     "execution_count": 17,
     "metadata": {},
     "output_type": "execute_result"
    }
   ],
   "source": [
    "arr"
   ]
  },
  {
   "cell_type": "code",
   "execution_count": 19,
   "id": "a17e859c",
   "metadata": {},
   "outputs": [
    {
     "data": {
      "text/plain": [
       "12"
      ]
     },
     "execution_count": 19,
     "metadata": {},
     "output_type": "execute_result"
    }
   ],
   "source": [
    "## Delete an element providing the index\n",
    "arr.pop(4)"
   ]
  },
  {
   "cell_type": "code",
   "execution_count": 20,
   "id": "89e4dfb3",
   "metadata": {},
   "outputs": [
    {
     "data": {
      "text/plain": [
       "[2, 1, 5, 9, 2, 15, 11]"
      ]
     },
     "execution_count": 20,
     "metadata": {},
     "output_type": "execute_result"
    }
   ],
   "source": [
    "arr"
   ]
  },
  {
   "cell_type": "code",
   "execution_count": 21,
   "id": "89031b76",
   "metadata": {},
   "outputs": [],
   "source": [
    "## Sort the array\n",
    "arr.sort()"
   ]
  },
  {
   "cell_type": "code",
   "execution_count": 22,
   "id": "535a9dc3",
   "metadata": {},
   "outputs": [
    {
     "data": {
      "text/plain": [
       "[1, 2, 2, 5, 9, 11, 15]"
      ]
     },
     "execution_count": 22,
     "metadata": {},
     "output_type": "execute_result"
    }
   ],
   "source": [
    "arr"
   ]
  },
  {
   "cell_type": "code",
   "execution_count": 23,
   "id": "1d59345d",
   "metadata": {},
   "outputs": [
    {
     "data": {
      "text/plain": [
       "5"
      ]
     },
     "execution_count": 23,
     "metadata": {},
     "output_type": "execute_result"
    }
   ],
   "source": [
    "## To extract the index of any given element\n",
    "arr.index(11)"
   ]
  },
  {
   "cell_type": "code",
   "execution_count": 24,
   "id": "147282d8",
   "metadata": {},
   "outputs": [],
   "source": [
    "## To extent the original array\n",
    "arr.extend([2,5,7,10])"
   ]
  },
  {
   "cell_type": "code",
   "execution_count": 25,
   "id": "02e9bd34",
   "metadata": {},
   "outputs": [
    {
     "data": {
      "text/plain": [
       "[1, 2, 2, 5, 9, 11, 15, 2, 5, 7, 10]"
      ]
     },
     "execution_count": 25,
     "metadata": {},
     "output_type": "execute_result"
    }
   ],
   "source": [
    "arr"
   ]
  },
  {
   "cell_type": "code",
   "execution_count": 26,
   "id": "641a697d",
   "metadata": {},
   "outputs": [],
   "source": [
    "## To reverse the entire list\n",
    "arr.reverse()"
   ]
  },
  {
   "cell_type": "code",
   "execution_count": 27,
   "id": "0fd3e128",
   "metadata": {},
   "outputs": [
    {
     "data": {
      "text/plain": [
       "[10, 7, 5, 2, 15, 11, 9, 5, 2, 2, 1]"
      ]
     },
     "execution_count": 27,
     "metadata": {},
     "output_type": "execute_result"
    }
   ],
   "source": [
    "arr"
   ]
  },
  {
   "cell_type": "code",
   "execution_count": null,
   "id": "c0c55d23",
   "metadata": {},
   "outputs": [],
   "source": []
  }
 ],
 "metadata": {
  "kernelspec": {
   "display_name": "Python 3 (ipykernel)",
   "language": "python",
   "name": "python3"
  },
  "language_info": {
   "codemirror_mode": {
    "name": "ipython",
    "version": 3
   },
   "file_extension": ".py",
   "mimetype": "text/x-python",
   "name": "python",
   "nbconvert_exporter": "python",
   "pygments_lexer": "ipython3",
   "version": "3.9.13"
  }
 },
 "nbformat": 4,
 "nbformat_minor": 5
}
