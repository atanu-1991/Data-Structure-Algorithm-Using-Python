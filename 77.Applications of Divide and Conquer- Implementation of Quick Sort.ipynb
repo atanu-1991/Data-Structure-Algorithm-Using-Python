{
 "cells": [
  {
   "cell_type": "code",
   "execution_count": 2,
   "id": "350ac258",
   "metadata": {},
   "outputs": [
    {
     "name": "stdout",
     "output_type": "stream",
     "text": [
      "Sorted Array after applying Quick Sort is: [5, 10, 20, 34, 47, 50, 70, 89]\n"
     ]
    }
   ],
   "source": [
    "## Implementation using the Quicksort algorithm\n",
    "## Recurrence Relation-> T(n) = T(m - p) + T(q - m) + n\n",
    "## Best Case Scenario-> T(n) = T(n/2) + T(n/2) + n => O(n logn)\n",
    "## Worst Case Scenario-> T(n) = T(n-1) + n => O(n^2)\n",
    "## function definition of partition algorithm-> O(n)\n",
    "def partition(arr, p, q):\n",
    "    i = p\n",
    "    ## starting element as a pivot element\n",
    "    pivot = arr[p]\n",
    "    for j in range(i+1, q+1):\n",
    "        if arr[j] <= pivot:\n",
    "            i = i +1\n",
    "            ## swap between the arr[i] and arr[j]\n",
    "            arr[i], arr[j] = arr[j], arr[i]\n",
    "    ## swap between the arr[i] and the pivot element\n",
    "    arr[i], arr[p] = arr[p], arr[i]\n",
    "    return i\n",
    "\n",
    "## function definition of Quick Sort\n",
    "def quickSort(arr, p, q):\n",
    "    if p < q:\n",
    "        ## function calling\n",
    "        mid = partition(arr, p, q)\n",
    "        ## recursive call for left subtree\n",
    "        ## T(mid - p)\n",
    "        quickSort(arr, p, mid-1)\n",
    "        ## recursive call for right subtree\n",
    "        ## T(q - mid)\n",
    "        quickSort(arr, mid+1, q)\n",
    "        \n",
    "    return arr\n",
    "\n",
    "\n",
    "## Driver Code\n",
    "arr = [20, 10, 5, 70, 50, 89, 34, 47]\n",
    "p = 0\n",
    "q = len(arr) - 1\n",
    "## function calling\n",
    "result = quickSort(arr, p, q)\n",
    "print(\"Sorted Array after applying Quick Sort is:\",result)"
   ]
  },
  {
   "cell_type": "code",
   "execution_count": null,
   "id": "f4d9fb2b",
   "metadata": {},
   "outputs": [],
   "source": []
  }
 ],
 "metadata": {
  "kernelspec": {
   "display_name": "Python 3 (ipykernel)",
   "language": "python",
   "name": "python3"
  },
  "language_info": {
   "codemirror_mode": {
    "name": "ipython",
    "version": 3
   },
   "file_extension": ".py",
   "mimetype": "text/x-python",
   "name": "python",
   "nbconvert_exporter": "python",
   "pygments_lexer": "ipython3",
   "version": "3.9.13"
  }
 },
 "nbformat": 4,
 "nbformat_minor": 5
}
