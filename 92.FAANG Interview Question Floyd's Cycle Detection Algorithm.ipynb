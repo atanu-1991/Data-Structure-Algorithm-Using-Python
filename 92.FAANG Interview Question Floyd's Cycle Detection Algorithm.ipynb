{
 "cells": [
  {
   "cell_type": "code",
   "execution_count": 6,
   "id": "fd1c6337",
   "metadata": {},
   "outputs": [
    {
     "name": "stdout",
     "output_type": "stream",
     "text": [
      "12  8  9  10  \n",
      "Loop is Found inside the Linked List\n"
     ]
    }
   ],
   "source": [
    "class Node:\n",
    "    def __init__(self, data):\n",
    "        self.data = data\n",
    "        self.next = None\n",
    "        \n",
    "class LinkedList:\n",
    "    def __init__(self):\n",
    "        self.head = None\n",
    "        \n",
    "    ## insert at the very End of the linked list\n",
    "    def insertAtEnd(self, new_data):\n",
    "        ## creation of the new node\n",
    "        new_node = Node(new_data)\n",
    "        \n",
    "        ## Linked List is empty\n",
    "        if self.head is None:\n",
    "            self.head = new_node\n",
    "            return\n",
    "        \n",
    "        ## insertion at the end\n",
    "        temp = self.head\n",
    "        while temp.next:\n",
    "            temp = temp.next\n",
    "            \n",
    "        temp.next = new_node\n",
    "    \n",
    "    ## Detection of the looop inside the Linked List\n",
    "    ## Floyd's Cycle detection algorithm\n",
    "    def detectLoop(self):\n",
    "        hare = self.head\n",
    "        tortoise = self.head\n",
    "        \n",
    "        while tortoise and hare and hare.next:\n",
    "            hare = hare.next.next\n",
    "            tortoise = tortoise.next\n",
    "            \n",
    "            if tortoise == hare:\n",
    "                return True\n",
    "            \n",
    "        return False\n",
    "    \n",
    "    ## print the Linked List\n",
    "    def printList(self):\n",
    "        temp = self.head\n",
    "        while temp:\n",
    "            print(str(temp.data)+\" \",end=\" \")\n",
    "            temp = temp.next\n",
    "            \n",
    "## Driver Code\n",
    "llist = LinkedList()\n",
    "## function calling\n",
    "llist.insertAtEnd(12)\n",
    "llist.insertAtEnd(8)\n",
    "llist.insertAtEnd(9)\n",
    "llist.insertAtEnd(10)\n",
    "llist.printList()\n",
    "\n",
    "llist.head.next.next.next = llist.head\n",
    "print()\n",
    "if llist.detectLoop():\n",
    "    print(\"Loop is Found inside the Linked List\")\n",
    "else:\n",
    "    print(\"No loop is found\")"
   ]
  },
  {
   "cell_type": "code",
   "execution_count": null,
   "id": "a094d626",
   "metadata": {},
   "outputs": [],
   "source": []
  }
 ],
 "metadata": {
  "kernelspec": {
   "display_name": "Python 3 (ipykernel)",
   "language": "python",
   "name": "python3"
  },
  "language_info": {
   "codemirror_mode": {
    "name": "ipython",
    "version": 3
   },
   "file_extension": ".py",
   "mimetype": "text/x-python",
   "name": "python",
   "nbconvert_exporter": "python",
   "pygments_lexer": "ipython3",
   "version": "3.9.13"
  }
 },
 "nbformat": 4,
 "nbformat_minor": 5
}
