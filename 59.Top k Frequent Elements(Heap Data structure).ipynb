{
 "cells": [
  {
   "cell_type": "code",
   "execution_count": 7,
   "id": "e7a216ee",
   "metadata": {},
   "outputs": [
    {
     "name": "stdout",
     "output_type": "stream",
     "text": [
      "Counter({1: 4, 2: 3, 3: 1})\n",
      "Top K frequent elements are: [1, 2]\n"
     ]
    }
   ],
   "source": [
    "from collections import Counter\n",
    "import heapq\n",
    "## function definition\n",
    "def topKfrequentElement(arr, k):\n",
    "    if k == len(arr):\n",
    "        return set(arr)\n",
    "    \n",
    "    ## count is dictionary which contains unique value as the key and the frequency of those unique elements as the value\n",
    "    count = Counter(arr)\n",
    "    \n",
    "    print(count)\n",
    "    return heapq.nlargest(k, count.keys(), key=count.get)\n",
    "    \n",
    "\n",
    "\n",
    "\n",
    "## Driver Code\n",
    "arr = [1, 1, 1, 1, 2, 2, 2, 3]\n",
    "k = 2\n",
    "## Function Calling\n",
    "result = topKfrequentElement(arr, k)\n",
    "print(\"Top K frequent elements are:\",result)"
   ]
  },
  {
   "cell_type": "code",
   "execution_count": null,
   "id": "b2902a24",
   "metadata": {},
   "outputs": [],
   "source": []
  },
  {
   "cell_type": "code",
   "execution_count": null,
   "id": "5b5c9572",
   "metadata": {},
   "outputs": [],
   "source": []
  }
 ],
 "metadata": {
  "kernelspec": {
   "display_name": "Python 3 (ipykernel)",
   "language": "python",
   "name": "python3"
  },
  "language_info": {
   "codemirror_mode": {
    "name": "ipython",
    "version": 3
   },
   "file_extension": ".py",
   "mimetype": "text/x-python",
   "name": "python",
   "nbconvert_exporter": "python",
   "pygments_lexer": "ipython3",
   "version": "3.9.13"
  }
 },
 "nbformat": 4,
 "nbformat_minor": 5
}
