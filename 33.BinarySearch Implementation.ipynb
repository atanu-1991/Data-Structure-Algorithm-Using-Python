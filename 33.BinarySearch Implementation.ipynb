{
 "cells": [
  {
   "cell_type": "code",
   "execution_count": 4,
   "id": "c5705e52",
   "metadata": {},
   "outputs": [
    {
     "name": "stdout",
     "output_type": "stream",
     "text": [
      "Searching element is present at index 2\n"
     ]
    }
   ],
   "source": [
    "## Implementation of Binary Search using recursion\n",
    "## Function Definition\n",
    "## Time complexity : O(logn)\n",
    "def binarySearch(arr, i, j, x):\n",
    "    \n",
    "    while i <= j:\n",
    "        \n",
    "        mid = i + (j-i) // 2\n",
    "        \n",
    "        if arr[mid] == x:\n",
    "            return mid\n",
    "        elif arr[mid] < x:\n",
    "            ## recursion-> calling the same function again with different set of parameters\n",
    "            return binarySearch(arr, mid+1, j, x)\n",
    "        else:\n",
    "            return binarySearch(arr, i, mid-1, x)\n",
    "        \n",
    "    ## Searching element is not present in the array\n",
    "    return -1\n",
    "\n",
    "\n",
    "## Driver Code\n",
    "## Sorted Array\n",
    "arr = [2, 5, 10, 14, 18, 22, 27, 35, 40, 59]\n",
    "x = 10\n",
    "i = 0\n",
    "j = len(arr)-1\n",
    "## Function Call\n",
    "result = binarySearch(arr, i, j, x)\n",
    "print(\"Searching element is present at index\",result)"
   ]
  },
  {
   "cell_type": "code",
   "execution_count": 7,
   "id": "f1e0637d",
   "metadata": {},
   "outputs": [
    {
     "name": "stdout",
     "output_type": "stream",
     "text": [
      "Searching element is present at index 6\n"
     ]
    }
   ],
   "source": [
    "## Implementation of Binary Search without using recursion\n",
    "## Function Definition\n",
    "def binarySearch(arr, i, j, x):\n",
    "    \n",
    "    while i <= j:\n",
    "        \n",
    "        mid = i + (j-i) // 2\n",
    "        \n",
    "        if arr[mid] == x:\n",
    "            return mid\n",
    "        elif arr[mid] < x:\n",
    "            ## update the i parameter\n",
    "            i = mid + 1\n",
    "        else:\n",
    "            ## update the j parameter\n",
    "            j = mid - 1\n",
    "        \n",
    "    ## Searching element is not present in the array\n",
    "    return -1\n",
    "\n",
    "\n",
    "## Driver Code\n",
    "## Sorted Array\n",
    "arr = [2, 5, 10, 14, 18, 22, 27, 35, 40, 59]\n",
    "x = 27\n",
    "i = 0\n",
    "j = len(arr)-1\n",
    "## Function Call\n",
    "result = binarySearch(arr, i, j, x)\n",
    "print(\"Searching element is present at index\",result)"
   ]
  },
  {
   "cell_type": "code",
   "execution_count": null,
   "id": "34ec38ed",
   "metadata": {},
   "outputs": [],
   "source": []
  }
 ],
 "metadata": {
  "kernelspec": {
   "display_name": "Python 3 (ipykernel)",
   "language": "python",
   "name": "python3"
  },
  "language_info": {
   "codemirror_mode": {
    "name": "ipython",
    "version": 3
   },
   "file_extension": ".py",
   "mimetype": "text/x-python",
   "name": "python",
   "nbconvert_exporter": "python",
   "pygments_lexer": "ipython3",
   "version": "3.9.13"
  }
 },
 "nbformat": 4,
 "nbformat_minor": 5
}
