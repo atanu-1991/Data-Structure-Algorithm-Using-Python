{
 "cells": [
  {
   "cell_type": "code",
   "execution_count": 4,
   "id": "e00be5db",
   "metadata": {},
   "outputs": [
    {
     "name": "stdout",
     "output_type": "stream",
     "text": [
      "(0, 5)\n"
     ]
    }
   ],
   "source": [
    "## Implementation of two pointer Approach\n",
    "## Time Complexity: O(n)\n",
    "## function definition\n",
    "def findPair(arr, target):\n",
    "    l = 0\n",
    "    r = len(arr) - 1\n",
    "    for i in range(len(arr) - 1):\n",
    "        if arr[l] + arr[r] == target:\n",
    "            return l,r\n",
    "        elif arr[l] + arr[r] > target:\n",
    "            r = r - 1\n",
    "        else:\n",
    "            l = l + 1\n",
    "            \n",
    "    return -1, -1\n",
    "\n",
    "\n",
    "\n",
    "## Driver Code\n",
    "arr = [20, 40, 50, 75, 120, 145, 200]\n",
    "target = 90\n",
    "## function calling\n",
    "result = findPair(arr, target)\n",
    "print(result)"
   ]
  },
  {
   "cell_type": "code",
   "execution_count": null,
   "id": "7d4e8f21",
   "metadata": {},
   "outputs": [],
   "source": []
  }
 ],
 "metadata": {
  "kernelspec": {
   "display_name": "Python 3 (ipykernel)",
   "language": "python",
   "name": "python3"
  },
  "language_info": {
   "codemirror_mode": {
    "name": "ipython",
    "version": 3
   },
   "file_extension": ".py",
   "mimetype": "text/x-python",
   "name": "python",
   "nbconvert_exporter": "python",
   "pygments_lexer": "ipython3",
   "version": "3.9.13"
  }
 },
 "nbformat": 4,
 "nbformat_minor": 5
}
