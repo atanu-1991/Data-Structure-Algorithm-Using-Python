{
 "cells": [
  {
   "cell_type": "code",
   "execution_count": 2,
   "id": "d5a0eac0",
   "metadata": {},
   "outputs": [
    {
     "name": "stdout",
     "output_type": "stream",
     "text": [
      "5 3 2 4 8 7 "
     ]
    }
   ],
   "source": [
    "## function definition\n",
    "def depthFirstTraversal(visited, graph, node):\n",
    "    if node not in visited:\n",
    "        print(node, end=\" \")\n",
    "        visited.add(node)\n",
    "        \n",
    "        for adjacentNodes in graph[node]:\n",
    "            if adjacentNodes not in visited:\n",
    "                ## recursion -> Stack data Structure to store the function calls\n",
    "                depthFirstTraversal(visited, graph, adjacentNodes)\n",
    "\n",
    "\n",
    "## Driver Code\n",
    "## Storing the data of the graph using adjacency List\n",
    "visited = set()\n",
    "\n",
    "## Directed Graph\n",
    "graph = {\n",
    "    '5' : ['3', '7'],\n",
    "    '3' : ['2', '4'],\n",
    "    '7' : ['8'],\n",
    "    '2' : [],\n",
    "    '4' : ['8'],\n",
    "    '8' : []\n",
    "}\n",
    "\n",
    "## function calling\n",
    "depthFirstTraversal(visited, graph, '5')"
   ]
  },
  {
   "cell_type": "code",
   "execution_count": null,
   "id": "ec5780bb",
   "metadata": {},
   "outputs": [],
   "source": []
  }
 ],
 "metadata": {
  "kernelspec": {
   "display_name": "Python 3 (ipykernel)",
   "language": "python",
   "name": "python3"
  },
  "language_info": {
   "codemirror_mode": {
    "name": "ipython",
    "version": 3
   },
   "file_extension": ".py",
   "mimetype": "text/x-python",
   "name": "python",
   "nbconvert_exporter": "python",
   "pygments_lexer": "ipython3",
   "version": "3.9.13"
  }
 },
 "nbformat": 4,
 "nbformat_minor": 5
}
