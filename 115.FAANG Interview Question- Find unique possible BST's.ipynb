{
 "cells": [
  {
   "cell_type": "code",
   "execution_count": 2,
   "id": "31624f04",
   "metadata": {},
   "outputs": [
    {
     "name": "stdout",
     "output_type": "stream",
     "text": [
      "Number of Unique possible BST is 1430\n"
     ]
    }
   ],
   "source": [
    "## method definition\n",
    "def findUniqueBST(n):\n",
    "    n1, n2, sum_val = 0, 0, 0\n",
    "    \n",
    "    ## Base case condition\n",
    "    if n==0 or n==1:\n",
    "        return 1\n",
    "    \n",
    "    ## Catalan number series\n",
    "    for i in range(1, n+1):\n",
    "        n1 = findUniqueBST(i-1)\n",
    "        n2 = findUniqueBST(n-i)\n",
    "        sum_val = sum_val + (n1 * n2)\n",
    "        \n",
    "    return sum_val\n",
    "\n",
    "\n",
    "\n",
    "## Driver Code\n",
    "## n indicates the number of nodes in the BST(unique)\n",
    "n = 8\n",
    "result = findUniqueBST(n)\n",
    "print(\"Number of Unique possible BST is\",result)"
   ]
  },
  {
   "cell_type": "code",
   "execution_count": null,
   "id": "da2e5f89",
   "metadata": {},
   "outputs": [],
   "source": []
  }
 ],
 "metadata": {
  "kernelspec": {
   "display_name": "Python 3 (ipykernel)",
   "language": "python",
   "name": "python3"
  },
  "language_info": {
   "codemirror_mode": {
    "name": "ipython",
    "version": 3
   },
   "file_extension": ".py",
   "mimetype": "text/x-python",
   "name": "python",
   "nbconvert_exporter": "python",
   "pygments_lexer": "ipython3",
   "version": "3.9.13"
  }
 },
 "nbformat": 4,
 "nbformat_minor": 5
}
